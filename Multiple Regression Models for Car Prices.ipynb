{
 "cells": [
  {
   "cell_type": "markdown",
   "id": "6056373c",
   "metadata": {},
   "source": [
    "# Multiple Regression Models for Car Prices "
   ]
  },
  {
   "cell_type": "markdown",
   "id": "bb760062",
   "metadata": {},
   "source": [
    "## Load Data"
   ]
  },
  {
   "cell_type": "code",
   "execution_count": 121,
   "id": "82b2bca0",
   "metadata": {},
   "outputs": [],
   "source": [
    "car <- read.csv(\"DataShortProject1 - Tanisha Gupta.csv\")"
   ]
  },
  {
   "cell_type": "code",
   "execution_count": 122,
   "id": "7a29c561",
   "metadata": {},
   "outputs": [],
   "source": [
    "#car"
   ]
  },
  {
   "cell_type": "markdown",
   "id": "faa762a8",
   "metadata": {},
   "source": [
    "## Model 1"
   ]
  },
  {
   "cell_type": "markdown",
   "id": "1ec969ba",
   "metadata": {},
   "source": [
    "#### a)"
   ]
  },
  {
   "cell_type": "code",
   "execution_count": 123,
   "id": "9751c451",
   "metadata": {},
   "outputs": [],
   "source": [
    "model1 = lm(car$price ~ car$miles + car$age)"
   ]
  },
  {
   "cell_type": "code",
   "execution_count": 124,
   "id": "19c142f1",
   "metadata": {},
   "outputs": [
    {
     "data": {
      "text/plain": [
       "\n",
       "Call:\n",
       "lm(formula = car$price ~ car$miles + car$age)\n",
       "\n",
       "Residuals:\n",
       "    Min      1Q  Median      3Q     Max \n",
       "-3.6831 -1.6716 -0.3036  0.8781  5.4900 \n",
       "\n",
       "Coefficients:\n",
       "            Estimate Std. Error t value Pr(>|t|)    \n",
       "(Intercept) 27.69689    0.84081  32.941  < 2e-16 ***\n",
       "car$miles   -0.06849    0.01157  -5.922 2.26e-06 ***\n",
       "car$age     -0.61163    0.08473  -7.218 7.40e-08 ***\n",
       "---\n",
       "Signif. codes:  0 ‘***’ 0.001 ‘**’ 0.01 ‘*’ 0.05 ‘.’ 0.1 ‘ ’ 1\n",
       "\n",
       "Residual standard error: 2.445 on 28 degrees of freedom\n",
       "Multiple R-squared:  0.907,\tAdjusted R-squared:  0.9004 \n",
       "F-statistic: 136.6 on 2 and 28 DF,  p-value: 3.604e-15\n"
      ]
     },
     "metadata": {},
     "output_type": "display_data"
    }
   ],
   "source": [
    "summary(model1)"
   ]
  },
  {
   "cell_type": "code",
   "execution_count": 125,
   "id": "cc456527",
   "metadata": {},
   "outputs": [
    {
     "data": {
      "text/html": [
       "<table class=\"dataframe\">\n",
       "<caption>A anova: 3 × 5</caption>\n",
       "<thead>\n",
       "\t<tr><th></th><th scope=col>Df</th><th scope=col>Sum Sq</th><th scope=col>Mean Sq</th><th scope=col>F value</th><th scope=col>Pr(&gt;F)</th></tr>\n",
       "\t<tr><th></th><th scope=col>&lt;int&gt;</th><th scope=col>&lt;dbl&gt;</th><th scope=col>&lt;dbl&gt;</th><th scope=col>&lt;dbl&gt;</th><th scope=col>&lt;dbl&gt;</th></tr>\n",
       "</thead>\n",
       "<tbody>\n",
       "\t<tr><th scope=row>car$miles</th><td> 1</td><td>1321.3189</td><td>1321.318940</td><td>221.06705</td><td>8.134837e-15</td></tr>\n",
       "\t<tr><th scope=row>car$age</th><td> 1</td><td> 311.4346</td><td> 311.434590</td><td> 52.10546</td><td>7.401798e-08</td></tr>\n",
       "\t<tr><th scope=row>Residuals</th><td>28</td><td> 167.3561</td><td>   5.977005</td><td>       NA</td><td>          NA</td></tr>\n",
       "</tbody>\n",
       "</table>\n"
      ],
      "text/latex": [
       "A anova: 3 × 5\n",
       "\\begin{tabular}{r|lllll}\n",
       "  & Df & Sum Sq & Mean Sq & F value & Pr(>F)\\\\\n",
       "  & <int> & <dbl> & <dbl> & <dbl> & <dbl>\\\\\n",
       "\\hline\n",
       "\tcar\\$miles &  1 & 1321.3189 & 1321.318940 & 221.06705 & 8.134837e-15\\\\\n",
       "\tcar\\$age &  1 &  311.4346 &  311.434590 &  52.10546 & 7.401798e-08\\\\\n",
       "\tResiduals & 28 &  167.3561 &    5.977005 &        NA &           NA\\\\\n",
       "\\end{tabular}\n"
      ],
      "text/markdown": [
       "\n",
       "A anova: 3 × 5\n",
       "\n",
       "| <!--/--> | Df &lt;int&gt; | Sum Sq &lt;dbl&gt; | Mean Sq &lt;dbl&gt; | F value &lt;dbl&gt; | Pr(&gt;F) &lt;dbl&gt; |\n",
       "|---|---|---|---|---|---|\n",
       "| car$miles |  1 | 1321.3189 | 1321.318940 | 221.06705 | 8.134837e-15 |\n",
       "| car$age |  1 |  311.4346 |  311.434590 |  52.10546 | 7.401798e-08 |\n",
       "| Residuals | 28 |  167.3561 |    5.977005 |        NA |           NA |\n",
       "\n"
      ],
      "text/plain": [
       "          Df Sum Sq    Mean Sq     F value   Pr(>F)      \n",
       "car$miles  1 1321.3189 1321.318940 221.06705 8.134837e-15\n",
       "car$age    1  311.4346  311.434590  52.10546 7.401798e-08\n",
       "Residuals 28  167.3561    5.977005        NA           NA"
      ]
     },
     "metadata": {},
     "output_type": "display_data"
    }
   ],
   "source": [
    "anova(model1)"
   ]
  },
  {
   "cell_type": "markdown",
   "id": "43006424",
   "metadata": {},
   "source": [
    "#### b)"
   ]
  },
  {
   "cell_type": "code",
   "execution_count": 126,
   "id": "bae8d44d",
   "metadata": {},
   "outputs": [],
   "source": [
    "thingy <- rstandard(model1)"
   ]
  },
  {
   "cell_type": "code",
   "execution_count": 127,
   "id": "5e35cee7",
   "metadata": {},
   "outputs": [
    {
     "data": {
      "text/html": [
       "<strong>1:</strong> 0.985807524277914"
      ],
      "text/latex": [
       "\\textbf{1:} 0.985807524277914"
      ],
      "text/markdown": [
       "**1:** 0.985807524277914"
      ],
      "text/plain": [
       "        1 \n",
       "0.9858075 "
      ]
     },
     "metadata": {},
     "output_type": "display_data"
    }
   ],
   "source": [
    "thingy[1]"
   ]
  },
  {
   "cell_type": "markdown",
   "id": "28e4b565",
   "metadata": {},
   "source": [
    "#### c)"
   ]
  },
  {
   "cell_type": "code",
   "execution_count": 128,
   "id": "6db30f69",
   "metadata": {},
   "outputs": [
    {
     "data": {
      "text/plain": [
       "\n",
       "Call:\n",
       "lm(formula = car$price ~ car$miles + car$age)\n",
       "\n",
       "Residuals:\n",
       "    Min      1Q  Median      3Q     Max \n",
       "-3.6831 -1.6716 -0.3036  0.8781  5.4900 \n",
       "\n",
       "Coefficients:\n",
       "            Estimate Std. Error t value Pr(>|t|)    \n",
       "(Intercept) 27.69689    0.84081  32.941  < 2e-16 ***\n",
       "car$miles   -0.06849    0.01157  -5.922 2.26e-06 ***\n",
       "car$age     -0.61163    0.08473  -7.218 7.40e-08 ***\n",
       "---\n",
       "Signif. codes:  0 ‘***’ 0.001 ‘**’ 0.01 ‘*’ 0.05 ‘.’ 0.1 ‘ ’ 1\n",
       "\n",
       "Residual standard error: 2.445 on 28 degrees of freedom\n",
       "Multiple R-squared:  0.907,\tAdjusted R-squared:  0.9004 \n",
       "F-statistic: 136.6 on 2 and 28 DF,  p-value: 3.604e-15\n"
      ]
     },
     "metadata": {},
     "output_type": "display_data"
    }
   ],
   "source": [
    "summary(model1)"
   ]
  },
  {
   "cell_type": "markdown",
   "id": "2575a125",
   "metadata": {},
   "source": [
    "The null hypothesis is that neither miles and age are good predictors for the price. The alternate hypothesis is that they are good predictors for the price. Both of the predictors have a signifacance of less than 0.001 (2.26e-06 and 7.40e-08, respectively), which means that they are both very good predictors for the price."
   ]
  },
  {
   "cell_type": "markdown",
   "id": "88a59528",
   "metadata": {},
   "source": [
    "#### d)"
   ]
  },
  {
   "cell_type": "markdown",
   "id": "cc6ac6f3",
   "metadata": {},
   "source": [
    "The null hypothesis is that the model is not a good predictor for the price. The alternate hypothesis is that it is a good predictor for the price. The P-value is is 3.604e-15 which is much lower than the threshold and therefore means that the model is a good predictor for the price. "
   ]
  },
  {
   "cell_type": "markdown",
   "id": "ac68ceb1",
   "metadata": {},
   "source": [
    "## Model 2"
   ]
  },
  {
   "cell_type": "markdown",
   "id": "ecc50df0",
   "metadata": {},
   "source": [
    "#### a)"
   ]
  },
  {
   "cell_type": "code",
   "execution_count": 129,
   "id": "f0d266ed",
   "metadata": {},
   "outputs": [],
   "source": [
    "#car$miles2 <- car$miles^2"
   ]
  },
  {
   "cell_type": "code",
   "execution_count": 130,
   "id": "d6b18aec",
   "metadata": {},
   "outputs": [],
   "source": [
    "#car$age2 <- car$age^2"
   ]
  },
  {
   "cell_type": "code",
   "execution_count": 131,
   "id": "9b8e26c0",
   "metadata": {},
   "outputs": [
    {
     "name": "stderr",
     "output_type": "stream",
     "text": [
      "The following objects are masked from car (pos = 3):\n",
      "\n",
      "    age, miles, price\n",
      "\n",
      "\n",
      "The following objects are masked from car (pos = 4):\n",
      "\n",
      "    age, miles, price\n",
      "\n",
      "\n"
     ]
    }
   ],
   "source": [
    "attach(car)"
   ]
  },
  {
   "cell_type": "code",
   "execution_count": 132,
   "id": "f9cacc72",
   "metadata": {},
   "outputs": [],
   "source": [
    "qModel = lm(price ~ age + I(age^2))"
   ]
  },
  {
   "cell_type": "code",
   "execution_count": 133,
   "id": "c6f6ee9a",
   "metadata": {},
   "outputs": [
    {
     "data": {
      "text/plain": [
       "\n",
       "Call:\n",
       "lm(formula = price ~ age + I(age^2))\n",
       "\n",
       "Residuals:\n",
       "    Min      1Q  Median      3Q     Max \n",
       "-5.5801 -1.3896 -0.0338  1.8999  4.9116 \n",
       "\n",
       "Coefficients:\n",
       "             Estimate Std. Error t value Pr(>|t|)    \n",
       "(Intercept) 29.277978   1.096968  26.690  < 2e-16 ***\n",
       "age         -1.952484   0.203996  -9.571 2.51e-10 ***\n",
       "I(age^2)     0.040194   0.007769   5.174 1.73e-05 ***\n",
       "---\n",
       "Signif. codes:  0 ‘***’ 0.001 ‘**’ 0.01 ‘*’ 0.05 ‘.’ 0.1 ‘ ’ 1\n",
       "\n",
       "Residual standard error: 2.624 on 28 degrees of freedom\n",
       "Multiple R-squared:  0.8929,\tAdjusted R-squared:  0.8853 \n",
       "F-statistic: 116.8 on 2 and 28 DF,  p-value: 2.601e-14\n"
      ]
     },
     "metadata": {},
     "output_type": "display_data"
    }
   ],
   "source": [
    "summary(qModel)"
   ]
  },
  {
   "cell_type": "code",
   "execution_count": 134,
   "id": "e2edd7a0",
   "metadata": {},
   "outputs": [
    {
     "data": {
      "image/png": "[encoded data removed]",
      "text/plain": [
       "plot without title"
      ]
     },
     "metadata": {
      "image/png": {
       "height": 420,
       "width": 420
      }
     },
     "output_type": "display_data"
    }
   ],
   "source": [
    "plot(price ~ age, car)\n",
    "curve(predict(qModel,newdata=data.frame(age=x)),add=T)"
   ]
  },
  {
   "cell_type": "markdown",
   "id": "d36194f7",
   "metadata": {},
   "source": [
    "#### b)"
   ]
  },
  {
   "cell_type": "markdown",
   "id": "0935f511",
   "metadata": {},
   "source": [
    "There is no point in time where there is a negative or zero prediction for the car price."
   ]
  },
  {
   "cell_type": "markdown",
   "id": "a1289cb1",
   "metadata": {},
   "source": [
    "#### c)"
   ]
  },
  {
   "cell_type": "markdown",
   "id": "1cf79f13",
   "metadata": {},
   "source": [
    "Cars that are very old seem to have a price that goes up rather than goes down. I think that's a flaw of the quadratic model. At least this model solves, the free car problem though.  "
   ]
  },
  {
   "cell_type": "markdown",
   "id": "c7599c91",
   "metadata": {},
   "source": [
    "#### d)"
   ]
  },
  {
   "cell_type": "code",
   "execution_count": 135,
   "id": "cbd447c2",
   "metadata": {},
   "outputs": [
    {
     "data": {
      "image/png": "[encoded data removed]",
      "text/plain": [
       "plot without title"
      ]
     },
     "metadata": {
      "image/png": {
       "height": 420,
       "width": 420
      }
     },
     "output_type": "display_data"
    }
   ],
   "source": [
    "cModel <- lm(price~poly(age,3,raw=TRUE),car)\n",
    "plot(price~age,car)\n",
    "curve(predict(cModel,newdata=data.frame(age=x)),add=T)"
   ]
  },
  {
   "cell_type": "markdown",
   "id": "2dd9e5b5",
   "metadata": {},
   "source": [
    "As you can see above the fit stayed pretty much the same whether it was quadratic or cubic. "
   ]
  },
  {
   "cell_type": "markdown",
   "id": "05329285",
   "metadata": {},
   "source": [
    "## Model 3"
   ]
  },
  {
   "cell_type": "markdown",
   "id": "843a8e15",
   "metadata": {},
   "source": [
    "#### a)"
   ]
  },
  {
   "cell_type": "markdown",
   "id": "69efe5a0",
   "metadata": {},
   "source": [
    "Second order Model: (coefficient)x_1 + (coefficient)x_1^2 + (coefficient)x_2 + (coefficient)x_2^2 + (coefficient)x_1*x_2"
   ]
  },
  {
   "cell_type": "markdown",
   "id": "14269968",
   "metadata": {},
   "source": [
    "#### b)"
   ]
  },
  {
   "cell_type": "code",
   "execution_count": 136,
   "id": "2154ac01",
   "metadata": {},
   "outputs": [],
   "source": [
    "secondorder = lm(price~age + I(age^2) + miles + I(miles^2) + age:miles, data=car)"
   ]
  },
  {
   "cell_type": "code",
   "execution_count": 137,
   "id": "599f3eb9",
   "metadata": {},
   "outputs": [
    {
     "data": {
      "text/plain": [
       "\n",
       "Call:\n",
       "lm(formula = price ~ age + I(age^2) + miles + I(miles^2) + age:miles, \n",
       "    data = car)\n",
       "\n",
       "Residuals:\n",
       "    Min      1Q  Median      3Q     Max \n",
       "-2.7780 -1.1570 -0.0203  1.2827  3.4587 \n",
       "\n",
       "Coefficients:\n",
       "              Estimate Std. Error t value Pr(>|t|)    \n",
       "(Intercept)  3.034e+01  8.987e-01  33.763  < 2e-16 ***\n",
       "age         -1.293e+00  2.608e-01  -4.958 4.15e-05 ***\n",
       "I(age^2)     1.682e-02  9.019e-03   1.865   0.0740 .  \n",
       "miles       -7.411e-02  3.611e-02  -2.052   0.0508 .  \n",
       "I(miles^2)  -7.445e-05  3.104e-04  -0.240   0.8124    \n",
       "age:miles    2.575e-03  3.011e-03   0.855   0.4005    \n",
       "---\n",
       "Signif. codes:  0 ‘***’ 0.001 ‘**’ 0.01 ‘*’ 0.05 ‘.’ 0.1 ‘ ’ 1\n",
       "\n",
       "Residual standard error: 1.805 on 25 degrees of freedom\n",
       "Multiple R-squared:  0.9548,\tAdjusted R-squared:  0.9457 \n",
       "F-statistic: 105.5 on 5 and 25 DF,  p-value: 5.622e-16\n"
      ]
     },
     "metadata": {},
     "output_type": "display_data"
    }
   ],
   "source": [
    "summary(secondorder)"
   ]
  },
  {
   "cell_type": "code",
   "execution_count": 138,
   "id": "da32a797",
   "metadata": {},
   "outputs": [
    {
     "data": {
      "text/html": [
       "<table class=\"dataframe\">\n",
       "<caption>A anova: 6 × 5</caption>\n",
       "<thead>\n",
       "\t<tr><th></th><th scope=col>Df</th><th scope=col>Sum Sq</th><th scope=col>Mean Sq</th><th scope=col>F value</th><th scope=col>Pr(&gt;F)</th></tr>\n",
       "\t<tr><th></th><th scope=col>&lt;int&gt;</th><th scope=col>&lt;dbl&gt;</th><th scope=col>&lt;dbl&gt;</th><th scope=col>&lt;dbl&gt;</th><th scope=col>&lt;dbl&gt;</th></tr>\n",
       "</thead>\n",
       "<tbody>\n",
       "\t<tr><th scope=row>age</th><td> 1</td><td>1423.144415</td><td>1423.144415</td><td>436.8769208</td><td>2.384886e-17</td></tr>\n",
       "\t<tr><th scope=row>I(age^2)</th><td> 1</td><td> 184.236123</td><td> 184.236123</td><td> 56.5568113</td><td>7.116279e-08</td></tr>\n",
       "\t<tr><th scope=row>miles</th><td> 1</td><td> 102.046330</td><td> 102.046330</td><td> 31.3261857</td><td>8.023069e-06</td></tr>\n",
       "\t<tr><th scope=row>I(miles^2)</th><td> 1</td><td>   6.860899</td><td>   6.860899</td><td>  2.1061591</td><td>1.591409e-01</td></tr>\n",
       "\t<tr><th scope=row>age:miles</th><td> 1</td><td>   2.383389</td><td>   2.383389</td><td>  0.7316529</td><td>4.004716e-01</td></tr>\n",
       "\t<tr><th scope=row>Residuals</th><td>25</td><td>  81.438521</td><td>   3.257541</td><td>         NA</td><td>          NA</td></tr>\n",
       "</tbody>\n",
       "</table>\n"
      ],
      "text/latex": [
       "A anova: 6 × 5\n",
       "\\begin{tabular}{r|lllll}\n",
       "  & Df & Sum Sq & Mean Sq & F value & Pr(>F)\\\\\n",
       "  & <int> & <dbl> & <dbl> & <dbl> & <dbl>\\\\\n",
       "\\hline\n",
       "\tage &  1 & 1423.144415 & 1423.144415 & 436.8769208 & 2.384886e-17\\\\\n",
       "\tI(age\\textasciicircum{}2) &  1 &  184.236123 &  184.236123 &  56.5568113 & 7.116279e-08\\\\\n",
       "\tmiles &  1 &  102.046330 &  102.046330 &  31.3261857 & 8.023069e-06\\\\\n",
       "\tI(miles\\textasciicircum{}2) &  1 &    6.860899 &    6.860899 &   2.1061591 & 1.591409e-01\\\\\n",
       "\tage:miles &  1 &    2.383389 &    2.383389 &   0.7316529 & 4.004716e-01\\\\\n",
       "\tResiduals & 25 &   81.438521 &    3.257541 &          NA &           NA\\\\\n",
       "\\end{tabular}\n"
      ],
      "text/markdown": [
       "\n",
       "A anova: 6 × 5\n",
       "\n",
       "| <!--/--> | Df &lt;int&gt; | Sum Sq &lt;dbl&gt; | Mean Sq &lt;dbl&gt; | F value &lt;dbl&gt; | Pr(&gt;F) &lt;dbl&gt; |\n",
       "|---|---|---|---|---|---|\n",
       "| age |  1 | 1423.144415 | 1423.144415 | 436.8769208 | 2.384886e-17 |\n",
       "| I(age^2) |  1 |  184.236123 |  184.236123 |  56.5568113 | 7.116279e-08 |\n",
       "| miles |  1 |  102.046330 |  102.046330 |  31.3261857 | 8.023069e-06 |\n",
       "| I(miles^2) |  1 |    6.860899 |    6.860899 |   2.1061591 | 1.591409e-01 |\n",
       "| age:miles |  1 |    2.383389 |    2.383389 |   0.7316529 | 4.004716e-01 |\n",
       "| Residuals | 25 |   81.438521 |    3.257541 |          NA |           NA |\n",
       "\n"
      ],
      "text/plain": [
       "           Df Sum Sq      Mean Sq     F value     Pr(>F)      \n",
       "age         1 1423.144415 1423.144415 436.8769208 2.384886e-17\n",
       "I(age^2)    1  184.236123  184.236123  56.5568113 7.116279e-08\n",
       "miles       1  102.046330  102.046330  31.3261857 8.023069e-06\n",
       "I(miles^2)  1    6.860899    6.860899   2.1061591 1.591409e-01\n",
       "age:miles   1    2.383389    2.383389   0.7316529 4.004716e-01\n",
       "Residuals  25   81.438521    3.257541          NA           NA"
      ]
     },
     "metadata": {},
     "output_type": "display_data"
    }
   ],
   "source": [
    "anova(secondorder)"
   ]
  },
  {
   "cell_type": "markdown",
   "id": "3da93bc5",
   "metadata": {},
   "source": [
    "#### c)"
   ]
  },
  {
   "cell_type": "code",
   "execution_count": 139,
   "id": "283dd404",
   "metadata": {},
   "outputs": [
    {
     "data": {
      "text/html": [
       "<table class=\"dataframe\">\n",
       "<caption>A anova: 6 × 5</caption>\n",
       "<thead>\n",
       "\t<tr><th></th><th scope=col>Df</th><th scope=col>Sum Sq</th><th scope=col>Mean Sq</th><th scope=col>F value</th><th scope=col>Pr(&gt;F)</th></tr>\n",
       "\t<tr><th></th><th scope=col>&lt;int&gt;</th><th scope=col>&lt;dbl&gt;</th><th scope=col>&lt;dbl&gt;</th><th scope=col>&lt;dbl&gt;</th><th scope=col>&lt;dbl&gt;</th></tr>\n",
       "</thead>\n",
       "<tbody>\n",
       "\t<tr><th scope=row>age</th><td> 1</td><td>1423.144415</td><td>1423.144415</td><td>436.8769208</td><td>2.384886e-17</td></tr>\n",
       "\t<tr><th scope=row>I(age^2)</th><td> 1</td><td> 184.236123</td><td> 184.236123</td><td> 56.5568113</td><td>7.116279e-08</td></tr>\n",
       "\t<tr><th scope=row>miles</th><td> 1</td><td> 102.046330</td><td> 102.046330</td><td> 31.3261857</td><td>8.023069e-06</td></tr>\n",
       "\t<tr><th scope=row>I(miles^2)</th><td> 1</td><td>   6.860899</td><td>   6.860899</td><td>  2.1061591</td><td>1.591409e-01</td></tr>\n",
       "\t<tr><th scope=row>age:miles</th><td> 1</td><td>   2.383389</td><td>   2.383389</td><td>  0.7316529</td><td>4.004716e-01</td></tr>\n",
       "\t<tr><th scope=row>Residuals</th><td>25</td><td>  81.438521</td><td>   3.257541</td><td>         NA</td><td>          NA</td></tr>\n",
       "</tbody>\n",
       "</table>\n"
      ],
      "text/latex": [
       "A anova: 6 × 5\n",
       "\\begin{tabular}{r|lllll}\n",
       "  & Df & Sum Sq & Mean Sq & F value & Pr(>F)\\\\\n",
       "  & <int> & <dbl> & <dbl> & <dbl> & <dbl>\\\\\n",
       "\\hline\n",
       "\tage &  1 & 1423.144415 & 1423.144415 & 436.8769208 & 2.384886e-17\\\\\n",
       "\tI(age\\textasciicircum{}2) &  1 &  184.236123 &  184.236123 &  56.5568113 & 7.116279e-08\\\\\n",
       "\tmiles &  1 &  102.046330 &  102.046330 &  31.3261857 & 8.023069e-06\\\\\n",
       "\tI(miles\\textasciicircum{}2) &  1 &    6.860899 &    6.860899 &   2.1061591 & 1.591409e-01\\\\\n",
       "\tage:miles &  1 &    2.383389 &    2.383389 &   0.7316529 & 4.004716e-01\\\\\n",
       "\tResiduals & 25 &   81.438521 &    3.257541 &          NA &           NA\\\\\n",
       "\\end{tabular}\n"
      ],
      "text/markdown": [
       "\n",
       "A anova: 6 × 5\n",
       "\n",
       "| <!--/--> | Df &lt;int&gt; | Sum Sq &lt;dbl&gt; | Mean Sq &lt;dbl&gt; | F value &lt;dbl&gt; | Pr(&gt;F) &lt;dbl&gt; |\n",
       "|---|---|---|---|---|---|\n",
       "| age |  1 | 1423.144415 | 1423.144415 | 436.8769208 | 2.384886e-17 |\n",
       "| I(age^2) |  1 |  184.236123 |  184.236123 |  56.5568113 | 7.116279e-08 |\n",
       "| miles |  1 |  102.046330 |  102.046330 |  31.3261857 | 8.023069e-06 |\n",
       "| I(miles^2) |  1 |    6.860899 |    6.860899 |   2.1061591 | 1.591409e-01 |\n",
       "| age:miles |  1 |    2.383389 |    2.383389 |   0.7316529 | 4.004716e-01 |\n",
       "| Residuals | 25 |   81.438521 |    3.257541 |          NA |           NA |\n",
       "\n"
      ],
      "text/plain": [
       "           Df Sum Sq      Mean Sq     F value     Pr(>F)      \n",
       "age         1 1423.144415 1423.144415 436.8769208 2.384886e-17\n",
       "I(age^2)    1  184.236123  184.236123  56.5568113 7.116279e-08\n",
       "miles       1  102.046330  102.046330  31.3261857 8.023069e-06\n",
       "I(miles^2)  1    6.860899    6.860899   2.1061591 1.591409e-01\n",
       "age:miles   1    2.383389    2.383389   0.7316529 4.004716e-01\n",
       "Residuals  25   81.438521    3.257541          NA           NA"
      ]
     },
     "metadata": {},
     "output_type": "display_data"
    }
   ],
   "source": [
    "anova(secondorder)"
   ]
  },
  {
   "cell_type": "code",
   "execution_count": 140,
   "id": "1f709276",
   "metadata": {},
   "outputs": [],
   "source": [
    "firstorder = lm(price~age*miles)"
   ]
  },
  {
   "cell_type": "code",
   "execution_count": 141,
   "id": "35a5c7df",
   "metadata": {},
   "outputs": [
    {
     "data": {
      "text/html": [
       "<table class=\"dataframe\">\n",
       "<caption>A anova: 2 × 6</caption>\n",
       "<thead>\n",
       "\t<tr><th></th><th scope=col>Res.Df</th><th scope=col>RSS</th><th scope=col>Df</th><th scope=col>Sum of Sq</th><th scope=col>F</th><th scope=col>Pr(&gt;F)</th></tr>\n",
       "\t<tr><th></th><th scope=col>&lt;dbl&gt;</th><th scope=col>&lt;dbl&gt;</th><th scope=col>&lt;dbl&gt;</th><th scope=col>&lt;dbl&gt;</th><th scope=col>&lt;dbl&gt;</th><th scope=col>&lt;dbl&gt;</th></tr>\n",
       "</thead>\n",
       "<tbody>\n",
       "\t<tr><th scope=row>1</th><td>27</td><td>95.35093</td><td>NA</td><td>      NA</td><td>      NA</td><td>       NA</td></tr>\n",
       "\t<tr><th scope=row>2</th><td>25</td><td>81.43852</td><td> 2</td><td>13.91241</td><td>2.135415</td><td>0.1392554</td></tr>\n",
       "</tbody>\n",
       "</table>\n"
      ],
      "text/latex": [
       "A anova: 2 × 6\n",
       "\\begin{tabular}{r|llllll}\n",
       "  & Res.Df & RSS & Df & Sum of Sq & F & Pr(>F)\\\\\n",
       "  & <dbl> & <dbl> & <dbl> & <dbl> & <dbl> & <dbl>\\\\\n",
       "\\hline\n",
       "\t1 & 27 & 95.35093 & NA &       NA &       NA &        NA\\\\\n",
       "\t2 & 25 & 81.43852 &  2 & 13.91241 & 2.135415 & 0.1392554\\\\\n",
       "\\end{tabular}\n"
      ],
      "text/markdown": [
       "\n",
       "A anova: 2 × 6\n",
       "\n",
       "| <!--/--> | Res.Df &lt;dbl&gt; | RSS &lt;dbl&gt; | Df &lt;dbl&gt; | Sum of Sq &lt;dbl&gt; | F &lt;dbl&gt; | Pr(&gt;F) &lt;dbl&gt; |\n",
       "|---|---|---|---|---|---|---|\n",
       "| 1 | 27 | 95.35093 | NA |       NA |       NA |        NA |\n",
       "| 2 | 25 | 81.43852 |  2 | 13.91241 | 2.135415 | 0.1392554 |\n",
       "\n"
      ],
      "text/plain": [
       "  Res.Df RSS      Df Sum of Sq F        Pr(>F)   \n",
       "1 27     95.35093 NA       NA        NA        NA\n",
       "2 25     81.43852  2 13.91241  2.135415 0.1392554"
      ]
     },
     "metadata": {},
     "output_type": "display_data"
    }
   ],
   "source": [
    "anova(firstorder , secondorder)"
   ]
  },
  {
   "cell_type": "code",
   "execution_count": 142,
   "id": "11552e4f",
   "metadata": {},
   "outputs": [
    {
     "data": {
      "text/html": [
       "<table class=\"dataframe\">\n",
       "<caption>A anova: 3 × 5</caption>\n",
       "<thead>\n",
       "\t<tr><th></th><th scope=col>Df</th><th scope=col>Sum Sq</th><th scope=col>Mean Sq</th><th scope=col>F value</th><th scope=col>Pr(&gt;F)</th></tr>\n",
       "\t<tr><th></th><th scope=col>&lt;int&gt;</th><th scope=col>&lt;dbl&gt;</th><th scope=col>&lt;dbl&gt;</th><th scope=col>&lt;dbl&gt;</th><th scope=col>&lt;dbl&gt;</th></tr>\n",
       "</thead>\n",
       "<tbody>\n",
       "\t<tr><th scope=row>age</th><td> 1</td><td>1423.1444</td><td>1423.144415</td><td>206.75671</td><td>1.869318e-14</td></tr>\n",
       "\t<tr><th scope=row>I(age^2)</th><td> 1</td><td> 184.2361</td><td> 184.236123</td><td> 26.76612</td><td>1.725508e-05</td></tr>\n",
       "\t<tr><th scope=row>Residuals</th><td>28</td><td> 192.7291</td><td>   6.883184</td><td>       NA</td><td>          NA</td></tr>\n",
       "</tbody>\n",
       "</table>\n"
      ],
      "text/latex": [
       "A anova: 3 × 5\n",
       "\\begin{tabular}{r|lllll}\n",
       "  & Df & Sum Sq & Mean Sq & F value & Pr(>F)\\\\\n",
       "  & <int> & <dbl> & <dbl> & <dbl> & <dbl>\\\\\n",
       "\\hline\n",
       "\tage &  1 & 1423.1444 & 1423.144415 & 206.75671 & 1.869318e-14\\\\\n",
       "\tI(age\\textasciicircum{}2) &  1 &  184.2361 &  184.236123 &  26.76612 & 1.725508e-05\\\\\n",
       "\tResiduals & 28 &  192.7291 &    6.883184 &        NA &           NA\\\\\n",
       "\\end{tabular}\n"
      ],
      "text/markdown": [
       "\n",
       "A anova: 3 × 5\n",
       "\n",
       "| <!--/--> | Df &lt;int&gt; | Sum Sq &lt;dbl&gt; | Mean Sq &lt;dbl&gt; | F value &lt;dbl&gt; | Pr(&gt;F) &lt;dbl&gt; |\n",
       "|---|---|---|---|---|---|\n",
       "| age |  1 | 1423.1444 | 1423.144415 | 206.75671 | 1.869318e-14 |\n",
       "| I(age^2) |  1 |  184.2361 |  184.236123 |  26.76612 | 1.725508e-05 |\n",
       "| Residuals | 28 |  192.7291 |    6.883184 |        NA |           NA |\n",
       "\n"
      ],
      "text/plain": [
       "          Df Sum Sq    Mean Sq     F value   Pr(>F)      \n",
       "age        1 1423.1444 1423.144415 206.75671 1.869318e-14\n",
       "I(age^2)   1  184.2361  184.236123  26.76612 1.725508e-05\n",
       "Residuals 28  192.7291    6.883184        NA           NA"
      ]
     },
     "metadata": {},
     "output_type": "display_data"
    }
   ],
   "source": [
    "anova(qModel)"
   ]
  },
  {
   "cell_type": "code",
   "execution_count": 143,
   "id": "9a1d5c17",
   "metadata": {},
   "outputs": [
    {
     "data": {
      "text/html": [
       "<table class=\"dataframe\">\n",
       "<caption>A anova: 2 × 6</caption>\n",
       "<thead>\n",
       "\t<tr><th></th><th scope=col>Res.Df</th><th scope=col>RSS</th><th scope=col>Df</th><th scope=col>Sum of Sq</th><th scope=col>F</th><th scope=col>Pr(&gt;F)</th></tr>\n",
       "\t<tr><th></th><th scope=col>&lt;dbl&gt;</th><th scope=col>&lt;dbl&gt;</th><th scope=col>&lt;dbl&gt;</th><th scope=col>&lt;dbl&gt;</th><th scope=col>&lt;dbl&gt;</th><th scope=col>&lt;dbl&gt;</th></tr>\n",
       "</thead>\n",
       "<tbody>\n",
       "\t<tr><th scope=row>1</th><td>28</td><td>192.72914</td><td>NA</td><td>      NA</td><td>    NA</td><td>          NA</td></tr>\n",
       "\t<tr><th scope=row>2</th><td>25</td><td> 81.43852</td><td> 3</td><td>111.2906</td><td>11.388</td><td>6.748875e-05</td></tr>\n",
       "</tbody>\n",
       "</table>\n"
      ],
      "text/latex": [
       "A anova: 2 × 6\n",
       "\\begin{tabular}{r|llllll}\n",
       "  & Res.Df & RSS & Df & Sum of Sq & F & Pr(>F)\\\\\n",
       "  & <dbl> & <dbl> & <dbl> & <dbl> & <dbl> & <dbl>\\\\\n",
       "\\hline\n",
       "\t1 & 28 & 192.72914 & NA &       NA &     NA &           NA\\\\\n",
       "\t2 & 25 &  81.43852 &  3 & 111.2906 & 11.388 & 6.748875e-05\\\\\n",
       "\\end{tabular}\n"
      ],
      "text/markdown": [
       "\n",
       "A anova: 2 × 6\n",
       "\n",
       "| <!--/--> | Res.Df &lt;dbl&gt; | RSS &lt;dbl&gt; | Df &lt;dbl&gt; | Sum of Sq &lt;dbl&gt; | F &lt;dbl&gt; | Pr(&gt;F) &lt;dbl&gt; |\n",
       "|---|---|---|---|---|---|---|\n",
       "| 1 | 28 | 192.72914 | NA |       NA |     NA |           NA |\n",
       "| 2 | 25 |  81.43852 |  3 | 111.2906 | 11.388 | 6.748875e-05 |\n",
       "\n"
      ],
      "text/plain": [
       "  Res.Df RSS       Df Sum of Sq F      Pr(>F)      \n",
       "1 28     192.72914 NA       NA      NA           NA\n",
       "2 25      81.43852  3 111.2906  11.388 6.748875e-05"
      ]
     },
     "metadata": {},
     "output_type": "display_data"
    }
   ],
   "source": [
    "anova(qModel , secondorder)"
   ]
  },
  {
   "cell_type": "markdown",
   "id": "456d0b5e",
   "metadata": {},
   "source": [
    "## Wrap Up:"
   ]
  },
  {
   "cell_type": "markdown",
   "id": "70b6a546",
   "metadata": {},
   "source": [
    "In conclusion, the best model out of all the three that I analyzed in this notebook is the full second order model. The null hypothesis was that none of the models would be good predictors (not statistically significant). Alternate hypotheses include any of the three being the best model (statistically significant and highest Adjusted R-squared). The full second order predictor on the age and the miles had the highest Adjusted R-squared with 94.57% of the variance explained by the model. The linear model with both age and miles had the next best adjusted R-squared with 90.04% of the variance explained by the model. The quadratic model with just age was the worst with an adjusted R-squared of 88.53% of the variance explained by the model. All of the models were statistically significant with their p-values being under 0.001. "
   ]
  }
 ],
 "metadata": {
  "kernelspec": {
   "display_name": "R",
   "language": "R",
   "name": "ir"
  },
  "language_info": {
   "codemirror_mode": "r",
   "file_extension": ".r",
   "mimetype": "text/x-r-source",
   "name": "R",
   "pygments_lexer": "r",
   "version": "4.2.1"
  }
 },
 "nbformat": 4,
 "nbformat_minor": 5
}
