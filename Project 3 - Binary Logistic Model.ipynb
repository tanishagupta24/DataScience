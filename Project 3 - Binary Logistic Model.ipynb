{
 "cells": [
  {
   "cell_type": "markdown",
   "id": "5036bb5d",
   "metadata": {},
   "source": [
    "# Project 3 - Binary Logistic Model"
   ]
  },
  {
   "cell_type": "markdown",
   "id": "dc3a5070",
   "metadata": {},
   "source": [
    "   Introduction: The data set that I am using is sourced originally from kaggle and is a list of the top songs from 2019: https://www.kaggle.com/datasets/leonardopena/top50spotify2019. I adapted this dataset for use in this project by adding the \"Pop Or Not?\" Column. I determined whether the song was pop or not by checking whether the song category had the string \"pop\" in it or not. The prediction that the models will need to make is determining whether a song is pop or not based on several variables sourced directly from spotify. These variables are Beats.Per.Min, Energy, Danceability, Loudness.DB, Liveness, Valence, Length, Acoutiness, Speechiness, Popularity.  "
   ]
  },
  {
   "cell_type": "markdown",
   "id": "d7d05152",
   "metadata": {},
   "source": [
    "## Load Data"
   ]
  },
  {
   "cell_type": "code",
   "execution_count": 116,
   "id": "eec7b0b4",
   "metadata": {},
   "outputs": [],
   "source": [
    "top50 <- read.csv(\"top50.csv\")\n",
    "#attach(top50)"
   ]
  },
  {
   "cell_type": "code",
   "execution_count": 117,
   "id": "7bb9608a",
   "metadata": {},
   "outputs": [],
   "source": [
    "#top50"
   ]
  },
  {
   "cell_type": "code",
   "execution_count": 118,
   "id": "51c3b566",
   "metadata": {},
   "outputs": [],
   "source": [
    "require(ggplot2)\n",
    "require(ggiraph)\n",
    "require(plyr)\n",
    "#require(predict3d)\n",
    "#install.packages(\"predict3d\")"
   ]
  },
  {
   "cell_type": "markdown",
   "id": "68c4df04",
   "metadata": {},
   "source": [
    "## Single:"
   ]
  },
  {
   "cell_type": "markdown",
   "id": "20439cff",
   "metadata": {},
   "source": [
    "I am choosing to use speechiness as my predictor as it sounds like a fun variable! "
   ]
  },
  {
   "cell_type": "markdown",
   "id": "c969974b",
   "metadata": {},
   "source": [
    "#### a) "
   ]
  },
  {
   "cell_type": "code",
   "execution_count": 119,
   "id": "c26a5da4",
   "metadata": {},
   "outputs": [
    {
     "data": {
      "text/plain": [
       "\n",
       "Call:\n",
       "glm(formula = Pop.or.Not. ~ Speechiness, family = binomial)\n",
       "\n",
       "Deviance Residuals: \n",
       "   Min      1Q  Median      3Q     Max  \n",
       "-1.337  -1.092  -1.054   1.243   1.306  \n",
       "\n",
       "Coefficients:\n",
       "            Estimate Std. Error z value Pr(>|z|)\n",
       "(Intercept) -0.36546    0.43144  -0.847    0.397\n",
       "Speechiness  0.02291    0.02618   0.875    0.382\n",
       "\n",
       "(Dispersion parameter for binomial family taken to be 1)\n",
       "\n",
       "    Null deviance: 69.235  on 49  degrees of freedom\n",
       "Residual deviance: 68.451  on 48  degrees of freedom\n",
       "AIC: 72.451\n",
       "\n",
       "Number of Fisher Scoring iterations: 4\n"
      ]
     },
     "metadata": {},
     "output_type": "display_data"
    }
   ],
   "source": [
    "pop.glm <- glm(Pop.or.Not. ~ Speechiness, family = binomial) \n",
    "summary(pop.glm) "
   ]
  },
  {
   "cell_type": "markdown",
   "id": "8bf8cb93",
   "metadata": {},
   "source": [
    "#### b)"
   ]
  },
  {
   "cell_type": "code",
   "execution_count": 120,
   "id": "9d77ba69",
   "metadata": {},
   "outputs": [
    {
     "data": {
      "text/html": [
       "<strong>(Intercept):</strong> 0.415190761661223"
      ],
      "text/latex": [
       "\\textbf{(Intercept):} 0.415190761661223"
      ],
      "text/markdown": [
       "**(Intercept):** 0.415190761661223"
      ],
      "text/plain": [
       "(Intercept) \n",
       "  0.4151908 "
      ]
     },
     "metadata": {},
     "output_type": "display_data"
    }
   ],
   "source": [
    "b0 <- coef(pop.glm)[1] \n",
    "b1 <- coef(pop.glm)[2] \n",
    "pi = exp(b0+b1)/(1+exp(b0+b1))\n",
    "pi"
   ]
  },
  {
   "cell_type": "markdown",
   "id": "9a2c5c27",
   "metadata": {},
   "source": [
    "On average a song with x speechiness would have 0.4152 probability of being pop. Also, as you can see above, the P value for the speechiness test is 0.382 which isn't statistically significant. "
   ]
  },
  {
   "cell_type": "code",
   "execution_count": 121,
   "id": "63204332",
   "metadata": {},
   "outputs": [
    {
     "data": {
      "text/html": [
       "<strong>(Intercept):</strong> 0.709959307141974"
      ],
      "text/latex": [
       "\\textbf{(Intercept):} 0.709959307141974"
      ],
      "text/markdown": [
       "**(Intercept):** 0.709959307141974"
      ],
      "text/plain": [
       "(Intercept) \n",
       "  0.7099593 "
      ]
     },
     "metadata": {},
     "output_type": "display_data"
    }
   ],
   "source": [
    "odds = pi/(1-pi)\n",
    "odds"
   ]
  },
  {
   "cell_type": "markdown",
   "id": "e75070bd",
   "metadata": {},
   "source": [
    "For every 1 increase in speechiness the odds increases by 0.71. "
   ]
  },
  {
   "cell_type": "markdown",
   "id": "cbbd82eb",
   "metadata": {},
   "source": [
    "#### c)"
   ]
  },
  {
   "cell_type": "code",
   "execution_count": 122,
   "id": "5b7e2487",
   "metadata": {},
   "outputs": [
    {
     "name": "stderr",
     "output_type": "stream",
     "text": [
      "Waiting for profiling to be done...\n",
      "\n"
     ]
    },
    {
     "data": {
      "text/html": [
       "<table class=\"dataframe\">\n",
       "<caption>A matrix: 2 × 2 of type dbl</caption>\n",
       "<thead>\n",
       "\t<tr><th></th><th scope=col>2.5 %</th><th scope=col>97.5 %</th></tr>\n",
       "</thead>\n",
       "<tbody>\n",
       "\t<tr><th scope=row>(Intercept)</th><td>-1.23108888</td><td>0.47467438</td></tr>\n",
       "\t<tr><th scope=row>Speechiness</th><td>-0.02770365</td><td>0.07725207</td></tr>\n",
       "</tbody>\n",
       "</table>\n"
      ],
      "text/latex": [
       "A matrix: 2 × 2 of type dbl\n",
       "\\begin{tabular}{r|ll}\n",
       "  & 2.5 \\% & 97.5 \\%\\\\\n",
       "\\hline\n",
       "\t(Intercept) & -1.23108888 & 0.47467438\\\\\n",
       "\tSpeechiness & -0.02770365 & 0.07725207\\\\\n",
       "\\end{tabular}\n"
      ],
      "text/markdown": [
       "\n",
       "A matrix: 2 × 2 of type dbl\n",
       "\n",
       "| <!--/--> | 2.5 % | 97.5 % |\n",
       "|---|---|---|\n",
       "| (Intercept) | -1.23108888 | 0.47467438 |\n",
       "| Speechiness | -0.02770365 | 0.07725207 |\n",
       "\n"
      ],
      "text/plain": [
       "            2.5 %       97.5 %    \n",
       "(Intercept) -1.23108888 0.47467438\n",
       "Speechiness -0.02770365 0.07725207"
      ]
     },
     "metadata": {},
     "output_type": "display_data"
    },
    {
     "name": "stderr",
     "output_type": "stream",
     "text": [
      "Waiting for profiling to be done...\n",
      "\n"
     ]
    },
    {
     "data": {
      "text/html": [
       "<table class=\"dataframe\">\n",
       "<caption>A matrix: 2 × 2 of type dbl</caption>\n",
       "<thead>\n",
       "\t<tr><th></th><th scope=col>2.5 %</th><th scope=col>97.5 %</th></tr>\n",
       "</thead>\n",
       "<tbody>\n",
       "\t<tr><th scope=row>(Intercept)</th><td>0.2919745</td><td>1.607491</td></tr>\n",
       "\t<tr><th scope=row>Speechiness</th><td>0.9726766</td><td>1.080314</td></tr>\n",
       "</tbody>\n",
       "</table>\n"
      ],
      "text/latex": [
       "A matrix: 2 × 2 of type dbl\n",
       "\\begin{tabular}{r|ll}\n",
       "  & 2.5 \\% & 97.5 \\%\\\\\n",
       "\\hline\n",
       "\t(Intercept) & 0.2919745 & 1.607491\\\\\n",
       "\tSpeechiness & 0.9726766 & 1.080314\\\\\n",
       "\\end{tabular}\n"
      ],
      "text/markdown": [
       "\n",
       "A matrix: 2 × 2 of type dbl\n",
       "\n",
       "| <!--/--> | 2.5 % | 97.5 % |\n",
       "|---|---|---|\n",
       "| (Intercept) | 0.2919745 | 1.607491 |\n",
       "| Speechiness | 0.9726766 | 1.080314 |\n",
       "\n"
      ],
      "text/plain": [
       "            2.5 %     97.5 %  \n",
       "(Intercept) 0.2919745 1.607491\n",
       "Speechiness 0.9726766 1.080314"
      ]
     },
     "metadata": {},
     "output_type": "display_data"
    }
   ],
   "source": [
    "confint(pop.glm) \n",
    "exp(confint(pop.glm)) "
   ]
  },
  {
   "cell_type": "markdown",
   "id": "0aefa856",
   "metadata": {},
   "source": [
    "1 is contained within my odds ratio. If the odds ratio for a predictor is equal to 1 that means that there is no association between the predictor and the outcome. If a 95% confidence interval contains 1 then my results aren't statistically significant."
   ]
  },
  {
   "cell_type": "markdown",
   "id": "56182695",
   "metadata": {},
   "source": [
    "#### d)"
   ]
  },
  {
   "cell_type": "markdown",
   "id": "45c84428",
   "metadata": {},
   "source": [
    "Ok, let's try to predict whether the song is pop or not based on a speechiness value of 5. "
   ]
  },
  {
   "cell_type": "code",
   "execution_count": 123,
   "id": "a3ce9ade",
   "metadata": {},
   "outputs": [
    {
     "data": {
      "text/html": [
       "<strong>(Intercept):</strong> 0.437600051335674"
      ],
      "text/latex": [
       "\\textbf{(Intercept):} 0.437600051335674"
      ],
      "text/markdown": [
       "**(Intercept):** 0.437600051335674"
      ],
      "text/plain": [
       "(Intercept) \n",
       "  0.4376001 "
      ]
     },
     "metadata": {},
     "output_type": "display_data"
    }
   ],
   "source": [
    "b0 <- coef(pop.glm)[1] \n",
    "b1 <- coef(pop.glm)[2] \n",
    "pi = exp(b0+b1*5)/(1+exp(b0+b1*5))\n",
    "pi"
   ]
  },
  {
   "cell_type": "markdown",
   "id": "933a6f93",
   "metadata": {},
   "source": [
    "Alright, so that means that the song with a speechiness value of 5 has been predicted to be not pop as the value of pi is less than 0.5"
   ]
  },
  {
   "cell_type": "markdown",
   "id": "ac3cb2e4",
   "metadata": {},
   "source": [
    "Let's try to predict whether the song is pop or not based on a speechiness value of 50. "
   ]
  },
  {
   "cell_type": "code",
   "execution_count": 124,
   "id": "90279970",
   "metadata": {},
   "outputs": [
    {
     "data": {
      "text/html": [
       "<strong>(Intercept):</strong> 0.685688570039258"
      ],
      "text/latex": [
       "\\textbf{(Intercept):} 0.685688570039258"
      ],
      "text/markdown": [
       "**(Intercept):** 0.685688570039258"
      ],
      "text/plain": [
       "(Intercept) \n",
       "  0.6856886 "
      ]
     },
     "metadata": {},
     "output_type": "display_data"
    }
   ],
   "source": [
    "b0 <- coef(pop.glm)[1] \n",
    "b1 <- coef(pop.glm)[2] \n",
    "pi = exp(b0+b1*50)/(1+exp(b0+b1*50))\n",
    "pi"
   ]
  },
  {
   "cell_type": "markdown",
   "id": "c7a3e461",
   "metadata": {},
   "source": [
    "Alright, the song with a speechiness value of 50 has been predicted to be pop as the value of pi is greater than 0.5"
   ]
  },
  {
   "cell_type": "markdown",
   "id": "b3f190f0",
   "metadata": {},
   "source": [
    "Let's try one more. Given a speechiness of 90, what does the model predict?"
   ]
  },
  {
   "cell_type": "code",
   "execution_count": 125,
   "id": "982e2bf3",
   "metadata": {},
   "outputs": [
    {
     "data": {
      "text/html": [
       "<strong>(Intercept):</strong> 0.845068770617543"
      ],
      "text/latex": [
       "\\textbf{(Intercept):} 0.845068770617543"
      ],
      "text/markdown": [
       "**(Intercept):** 0.845068770617543"
      ],
      "text/plain": [
       "(Intercept) \n",
       "  0.8450688 "
      ]
     },
     "metadata": {},
     "output_type": "display_data"
    }
   ],
   "source": [
    "b0 <- coef(pop.glm)[1] \n",
    "b1 <- coef(pop.glm)[2] \n",
    "pi = exp(b0+b1*90)/(1+exp(b0+b1*90))\n",
    "pi"
   ]
  },
  {
   "cell_type": "markdown",
   "id": "154ad771",
   "metadata": {},
   "source": [
    "The model predicts that the song is pop as the value of pi is greater than 0.5."
   ]
  },
  {
   "cell_type": "markdown",
   "id": "1c566872",
   "metadata": {},
   "source": [
    "#### e)"
   ]
  },
  {
   "cell_type": "code",
   "execution_count": 126,
   "id": "37946599",
   "metadata": {},
   "outputs": [
    {
     "data": {
      "image/png": "[encoded data removed]",
      "text/plain": [
       "plot without title"
      ]
     },
     "metadata": {
      "image/png": {
       "height": 420,
       "width": 420
      }
     },
     "output_type": "display_data"
    }
   ],
   "source": [
    "b0 <- coef(pop.glm)[1] \n",
    "b1 <- coef(pop.glm)[2] \n",
    "plot(Speechiness, jitter(Pop.or.Not., amount = 0.05)) \n",
    "  curve(exp(b0+b1*x)/(1+exp(b0+b1*x)),add=TRUE) "
   ]
  },
  {
   "cell_type": "markdown",
   "id": "c09a5fdc",
   "metadata": {},
   "source": [
    "Well, clearly this model is not doing a very good job and predicting very much at all... I think that's just because the variable in general is not very good for predicting what I need. "
   ]
  },
  {
   "cell_type": "markdown",
   "id": "76c9ba83",
   "metadata": {},
   "source": [
    "#### f)"
   ]
  },
  {
   "cell_type": "code",
   "execution_count": 127,
   "id": "4a47423e",
   "metadata": {},
   "outputs": [
    {
     "data": {
      "text/html": [
       "0.784000000000006"
      ],
      "text/latex": [
       "0.784000000000006"
      ],
      "text/markdown": [
       "0.784000000000006"
      ],
      "text/plain": [
       "[1] 0.784"
      ]
     },
     "metadata": {},
     "output_type": "display_data"
    }
   ],
   "source": [
    "G <- 69.235 - 68.451\n",
    "df <- 49 - 48 \n",
    "G "
   ]
  },
  {
   "cell_type": "code",
   "execution_count": 128,
   "id": "b00a903f",
   "metadata": {},
   "outputs": [
    {
     "data": {
      "text/html": [
       "0.375920582548073"
      ],
      "text/latex": [
       "0.375920582548073"
      ],
      "text/markdown": [
       "0.375920582548073"
      ],
      "text/plain": [
       "[1] 0.3759206"
      ]
     },
     "metadata": {},
     "output_type": "display_data"
    }
   ],
   "source": [
    "pchisq(G, df, lower.tail=F) "
   ]
  },
  {
   "cell_type": "markdown",
   "id": "0eeaa827",
   "metadata": {},
   "source": [
    "The G statistic as seen above is 0.784. This p-value is not significant, meaning that our model is not significant either. "
   ]
  },
  {
   "cell_type": "markdown",
   "id": "5aea6c14",
   "metadata": {},
   "source": [
    "## Multiple:"
   ]
  },
  {
   "cell_type": "markdown",
   "id": "1cfbb753",
   "metadata": {},
   "source": [
    "#### a)"
   ]
  },
  {
   "cell_type": "code",
   "execution_count": 129,
   "id": "6155f496",
   "metadata": {},
   "outputs": [],
   "source": [
    "pop.glm2 <- glm(Pop.or.Not. ~ Speechiness + Popularity, family = binomial) "
   ]
  },
  {
   "cell_type": "code",
   "execution_count": 130,
   "id": "6e538e69",
   "metadata": {},
   "outputs": [
    {
     "data": {
      "text/plain": [
       "\n",
       "Call:\n",
       "glm(formula = Pop.or.Not. ~ Speechiness + Popularity, family = binomial)\n",
       "\n",
       "Deviance Residuals: \n",
       "    Min       1Q   Median       3Q      Max  \n",
       "-1.8253  -0.9793  -0.5898   0.9978   1.7691  \n",
       "\n",
       "Coefficients:\n",
       "            Estimate Std. Error z value Pr(>|z|)  \n",
       "(Intercept) 20.39689    8.28809   2.461   0.0139 *\n",
       "Speechiness  0.04767    0.03017   1.580   0.1141  \n",
       "Popularity  -0.24033    0.09546  -2.518   0.0118 *\n",
       "---\n",
       "Signif. codes:  0 ‘***’ 0.001 ‘**’ 0.01 ‘*’ 0.05 ‘.’ 0.1 ‘ ’ 1\n",
       "\n",
       "(Dispersion parameter for binomial family taken to be 1)\n",
       "\n",
       "    Null deviance: 69.235  on 49  degrees of freedom\n",
       "Residual deviance: 59.602  on 47  degrees of freedom\n",
       "AIC: 65.602\n",
       "\n",
       "Number of Fisher Scoring iterations: 4\n"
      ]
     },
     "metadata": {},
     "output_type": "display_data"
    }
   ],
   "source": [
    "summary(pop.glm2)"
   ]
  },
  {
   "cell_type": "code",
   "execution_count": 131,
   "id": "4c403fe7",
   "metadata": {},
   "outputs": [],
   "source": [
    "pop.glm3 <- glm(Pop.or.Not. ~ Speechiness + Popularity + Liveness, \n",
    "                family = binomial) "
   ]
  },
  {
   "cell_type": "code",
   "execution_count": 132,
   "id": "557211e5",
   "metadata": {},
   "outputs": [
    {
     "data": {
      "text/plain": [
       "\n",
       "Call:\n",
       "glm(formula = Pop.or.Not. ~ Speechiness + Popularity + Liveness, \n",
       "    family = binomial)\n",
       "\n",
       "Deviance Residuals: \n",
       "    Min       1Q   Median       3Q      Max  \n",
       "-1.8378  -0.9689  -0.5750   0.9724   1.6950  \n",
       "\n",
       "Coefficients:\n",
       "            Estimate Std. Error z value Pr(>|z|)  \n",
       "(Intercept) 20.11904    8.29089   2.427   0.0152 *\n",
       "Speechiness  0.04479    0.03043   1.472   0.1410  \n",
       "Popularity  -0.23420    0.09583  -2.444   0.0145 *\n",
       "Liveness    -0.01521    0.02971  -0.512   0.6088  \n",
       "---\n",
       "Signif. codes:  0 ‘***’ 0.001 ‘**’ 0.01 ‘*’ 0.05 ‘.’ 0.1 ‘ ’ 1\n",
       "\n",
       "(Dispersion parameter for binomial family taken to be 1)\n",
       "\n",
       "    Null deviance: 69.235  on 49  degrees of freedom\n",
       "Residual deviance: 59.329  on 46  degrees of freedom\n",
       "AIC: 67.329\n",
       "\n",
       "Number of Fisher Scoring iterations: 4\n"
      ]
     },
     "metadata": {},
     "output_type": "display_data"
    }
   ],
   "source": [
    "summary(pop.glm3)"
   ]
  },
  {
   "cell_type": "code",
   "execution_count": 133,
   "id": "2cd1a3d0",
   "metadata": {},
   "outputs": [
    {
     "data": {
      "text/plain": [
       "\n",
       "Call:\n",
       "glm(formula = Pop.or.Not. ~ Popularity + Liveness, family = binomial)\n",
       "\n",
       "Deviance Residuals: \n",
       "    Min       1Q   Median       3Q      Max  \n",
       "-1.8543  -0.9831  -0.6771   1.0740   1.8093  \n",
       "\n",
       "Coefficients:\n",
       "            Estimate Std. Error z value Pr(>|z|)  \n",
       "(Intercept) 17.57309    7.86964   2.233   0.0255 *\n",
       "Popularity  -0.19761    0.08943  -2.210   0.0271 *\n",
       "Liveness    -0.02204    0.02867  -0.769   0.4421  \n",
       "---\n",
       "Signif. codes:  0 ‘***’ 0.001 ‘**’ 0.01 ‘*’ 0.05 ‘.’ 0.1 ‘ ’ 1\n",
       "\n",
       "(Dispersion parameter for binomial family taken to be 1)\n",
       "\n",
       "    Null deviance: 69.235  on 49  degrees of freedom\n",
       "Residual deviance: 61.653  on 47  degrees of freedom\n",
       "AIC: 67.653\n",
       "\n",
       "Number of Fisher Scoring iterations: 4\n"
      ]
     },
     "metadata": {},
     "output_type": "display_data"
    }
   ],
   "source": [
    "pop.glm4 <- glm(Pop.or.Not. ~ Popularity + Liveness, family = binomial) \n",
    "summary(pop.glm4)"
   ]
  },
  {
   "cell_type": "code",
   "execution_count": 134,
   "id": "b3575ca1",
   "metadata": {},
   "outputs": [
    {
     "data": {
      "text/plain": [
       "\n",
       "Call:\n",
       "glm(formula = Pop.or.Not. ~ Popularity + Loudness.dB, family = binomial, \n",
       "    data = top50)\n",
       "\n",
       "Deviance Residuals: \n",
       "    Min       1Q   Median       3Q      Max  \n",
       "-1.8849  -0.8945  -0.5134   1.0098   1.7858  \n",
       "\n",
       "Coefficients:\n",
       "            Estimate Std. Error z value Pr(>|z|)  \n",
       "(Intercept) 16.44625    7.99283   2.058   0.0396 *\n",
       "Popularity  -0.21364    0.09151  -2.335   0.0196 *\n",
       "Loudness.dB -0.38631    0.17199  -2.246   0.0247 *\n",
       "---\n",
       "Signif. codes:  0 ‘***’ 0.001 ‘**’ 0.01 ‘*’ 0.05 ‘.’ 0.1 ‘ ’ 1\n",
       "\n",
       "(Dispersion parameter for binomial family taken to be 1)\n",
       "\n",
       "    Null deviance: 69.235  on 49  degrees of freedom\n",
       "Residual deviance: 56.271  on 47  degrees of freedom\n",
       "AIC: 62.271\n",
       "\n",
       "Number of Fisher Scoring iterations: 4\n"
      ]
     },
     "metadata": {},
     "output_type": "display_data"
    }
   ],
   "source": [
    "pop.glm5 <- glm(Pop.or.Not. ~ Popularity + Loudness.dB, data=top50, \n",
    "                family = binomial) \n",
    "summary(pop.glm5)"
   ]
  },
  {
   "cell_type": "code",
   "execution_count": 135,
   "id": "eb9ca56f",
   "metadata": {},
   "outputs": [
    {
     "data": {
      "text/plain": [
       "\n",
       "Call:\n",
       "glm(formula = Pop.or.Not. ~ Popularity + Loudness.dB + Beats.Per.Minute, \n",
       "    family = binomial)\n",
       "\n",
       "Deviance Residuals: \n",
       "    Min       1Q   Median       3Q      Max  \n",
       "-1.8508  -0.9324  -0.4946   1.0219   1.6244  \n",
       "\n",
       "Coefficients:\n",
       "                  Estimate Std. Error z value Pr(>|z|)  \n",
       "(Intercept)      16.825455   8.147005   2.065   0.0389 *\n",
       "Popularity       -0.227999   0.096079  -2.373   0.0176 *\n",
       "Loudness.dB      -0.395795   0.175791  -2.252   0.0244 *\n",
       "Beats.Per.Minute  0.006879   0.010643   0.646   0.5181  \n",
       "---\n",
       "Signif. codes:  0 ‘***’ 0.001 ‘**’ 0.01 ‘*’ 0.05 ‘.’ 0.1 ‘ ’ 1\n",
       "\n",
       "(Dispersion parameter for binomial family taken to be 1)\n",
       "\n",
       "    Null deviance: 69.235  on 49  degrees of freedom\n",
       "Residual deviance: 55.853  on 46  degrees of freedom\n",
       "AIC: 63.853\n",
       "\n",
       "Number of Fisher Scoring iterations: 4\n"
      ]
     },
     "metadata": {},
     "output_type": "display_data"
    }
   ],
   "source": [
    "pop.glm6 <- glm(Pop.or.Not. ~ Popularity + Loudness.dB + Beats.Per.Minute, \n",
    "                family = binomial) \n",
    "summary(pop.glm6)"
   ]
  },
  {
   "cell_type": "markdown",
   "id": "3d809872",
   "metadata": {},
   "source": [
    "I think that the best model that I've encountered after these trials is the one based on Popularity and Loudness.dB. I will use that one going forward with this project."
   ]
  },
  {
   "cell_type": "markdown",
   "id": "437f7444",
   "metadata": {},
   "source": [
    "#### b)"
   ]
  },
  {
   "cell_type": "markdown",
   "id": "5de95d2c",
   "metadata": {},
   "source": [
    "Ok, so let's assume I'm attempting to predict pop.or.not given a value of 77 for popularity and 12 for Loudness.dB."
   ]
  },
  {
   "cell_type": "code",
   "execution_count": 136,
   "id": "a6478080",
   "metadata": {},
   "outputs": [
    {
     "data": {
      "text/html": [
       "<strong>(Intercept):</strong> 0.00956812102166684"
      ],
      "text/latex": [
       "\\textbf{(Intercept):} 0.00956812102166684"
      ],
      "text/markdown": [
       "**(Intercept):** 0.00956812102166684"
      ],
      "text/plain": [
       "(Intercept) \n",
       "0.009568121 "
      ]
     },
     "metadata": {},
     "output_type": "display_data"
    }
   ],
   "source": [
    "b0 <- coef(pop.glm5)[1] \n",
    "b1 <- coef(pop.glm5)[2] \n",
    "b2 <- coef(pop.glm5)[3] \n",
    "predicted_pi = pi = exp(b0+b1*77+b2*12)/(1+exp(b0+b1*77+b2*12))\n",
    "predicted_pi"
   ]
  },
  {
   "cell_type": "markdown",
   "id": "ed1f1341",
   "metadata": {},
   "source": [
    "Predicted_pi is less than 0.5 so, this made up song is predicted by the model to be not pop. "
   ]
  },
  {
   "cell_type": "markdown",
   "id": "aaa0bdea",
   "metadata": {},
   "source": [
    "#### c)"
   ]
  },
  {
   "cell_type": "code",
   "execution_count": 137,
   "id": "26543cf2",
   "metadata": {},
   "outputs": [],
   "source": [
    "# G - test function, so we only write the code for the test once \n",
    "Gtest <- function(model) { \n",
    "  #  \n",
    "  # Inputs: Null Devance, Residual Deviance, Null df, Residual df \n",
    "  # Outputs: G test statistic, DF, and P-value  \n",
    "  # ToDO: Add test for to check if the model approproate for a G test! \n",
    "  \n",
    "  if((summary(model)$family[1] == \"binomial\")) { \n",
    "    n <- length(anova(model)[,1]) \n",
    "    null.deviance <- anova(model)[1,4]     \n",
    "    residual.deviance <- anova(model)[n,4]    \n",
    "    null.df <- anova(model)[1,3] \n",
    "    residual.df <- anova(model)[n,3] \n",
    "     \n",
    "    G <- null.deviance - residual.deviance \n",
    "    df <- null.df - residual.df \n",
    "    p <- pchisq(G, df, lower.tail=F) \n",
    "     \n",
    "    cat(\"G =\", G, \"DF =\", df, \"P-value =\", p) \n",
    "       \n",
    "    } else { \n",
    "  stop(\"This is not a logistic model!\")   \n",
    "  }   \n",
    "} "
   ]
  },
  {
   "cell_type": "code",
   "execution_count": 138,
   "id": "df35b872",
   "metadata": {},
   "outputs": [
    {
     "name": "stdout",
     "output_type": "stream",
     "text": [
      "G = 12.96397 DF = 2 P-value = 0.001530765"
     ]
    }
   ],
   "source": [
    "Gtest(pop.glm5)"
   ]
  },
  {
   "cell_type": "markdown",
   "id": "d4e32a59",
   "metadata": {},
   "source": [
    "So both the popularity and Loudness.dB are much better predictors than the Speechiness I chose in the Single model. Both Popularity and Loudness.dB are statistically significant as can be seen in the summary in part A. The G test above also produced a statistically significant result!"
   ]
  },
  {
   "cell_type": "code",
   "execution_count": 139,
   "id": "38a9028f",
   "metadata": {},
   "outputs": [
    {
     "data": {
      "image/png": "[encoded data removed]",
      "text/plain": [
       "plot without title"
      ]
     },
     "metadata": {
      "image/png": {
       "height": 420,
       "width": 420
      }
     },
     "output_type": "display_data"
    }
   ],
   "source": [
    "require(ggiraphExtra)\n",
    "ggPredict(pop.glm5)"
   ]
  },
  {
   "cell_type": "markdown",
   "id": "8ed0f6dd",
   "metadata": {},
   "source": [
    "I found this really nice visualization tool online for visualizing multiple regression models. I'm not sure if there are any other simpler techniques for visualizing both variables on the same graph. "
   ]
  },
  {
   "cell_type": "markdown",
   "id": "f6102653",
   "metadata": {},
   "source": [
    "## Prediction Table"
   ]
  },
  {
   "cell_type": "markdown",
   "id": "1613ea7b",
   "metadata": {},
   "source": [
    "#### a)"
   ]
  },
  {
   "cell_type": "code",
   "execution_count": 140,
   "id": "e2135a1d",
   "metadata": {},
   "outputs": [
    {
     "data": {
      "text/html": [
       "50"
      ],
      "text/latex": [
       "50"
      ],
      "text/markdown": [
       "50"
      ],
      "text/plain": [
       "[1] 50"
      ]
     },
     "metadata": {},
     "output_type": "display_data"
    }
   ],
   "source": [
    "top50$Predicted <- fitted(pop.glm5) \n",
    "length(top50$Predicted) "
   ]
  },
  {
   "cell_type": "markdown",
   "id": "596b7a0b",
   "metadata": {},
   "source": [
    "#### b)"
   ]
  },
  {
   "cell_type": "code",
   "execution_count": 141,
   "id": "8eb2a085",
   "metadata": {},
   "outputs": [
    {
     "data": {
      "text/html": [
       "<style>\n",
       ".list-inline {list-style: none; margin:0; padding: 0}\n",
       ".list-inline>li {display: inline-block}\n",
       ".list-inline>li:not(:last-child)::after {content: \"\\00b7\"; padding: 0 .5ex}\n",
       "</style>\n",
       "<ol class=list-inline><li>1</li><li>0</li><li>0</li><li>1</li><li>0</li><li>1</li><li>0</li><li>0</li><li>1</li><li>1</li><li>0</li><li>0</li><li>0</li><li>0</li><li>0</li><li>1</li><li>0</li><li>0</li><li>1</li><li>0</li><li>0</li><li>0</li><li>1</li><li>0</li><li>1</li><li>1</li><li>1</li><li>1</li><li>0</li><li>0</li><li>1</li><li>1</li><li>0</li><li>1</li><li>0</li><li>1</li><li>0</li><li>0</li><li>1</li><li>1</li><li>1</li><li>0</li><li>1</li><li>1</li><li>0</li><li>0</li><li>0</li><li>0</li><li>0</li><li>1</li></ol>\n"
      ],
      "text/latex": [
       "\\begin{enumerate*}\n",
       "\\item 1\n",
       "\\item 0\n",
       "\\item 0\n",
       "\\item 1\n",
       "\\item 0\n",
       "\\item 1\n",
       "\\item 0\n",
       "\\item 0\n",
       "\\item 1\n",
       "\\item 1\n",
       "\\item 0\n",
       "\\item 0\n",
       "\\item 0\n",
       "\\item 0\n",
       "\\item 0\n",
       "\\item 1\n",
       "\\item 0\n",
       "\\item 0\n",
       "\\item 1\n",
       "\\item 0\n",
       "\\item 0\n",
       "\\item 0\n",
       "\\item 1\n",
       "\\item 0\n",
       "\\item 1\n",
       "\\item 1\n",
       "\\item 1\n",
       "\\item 1\n",
       "\\item 0\n",
       "\\item 0\n",
       "\\item 1\n",
       "\\item 1\n",
       "\\item 0\n",
       "\\item 1\n",
       "\\item 0\n",
       "\\item 1\n",
       "\\item 0\n",
       "\\item 0\n",
       "\\item 1\n",
       "\\item 1\n",
       "\\item 1\n",
       "\\item 0\n",
       "\\item 1\n",
       "\\item 1\n",
       "\\item 0\n",
       "\\item 0\n",
       "\\item 0\n",
       "\\item 0\n",
       "\\item 0\n",
       "\\item 1\n",
       "\\end{enumerate*}\n"
      ],
      "text/markdown": [
       "1. 1\n",
       "2. 0\n",
       "3. 0\n",
       "4. 1\n",
       "5. 0\n",
       "6. 1\n",
       "7. 0\n",
       "8. 0\n",
       "9. 1\n",
       "10. 1\n",
       "11. 0\n",
       "12. 0\n",
       "13. 0\n",
       "14. 0\n",
       "15. 0\n",
       "16. 1\n",
       "17. 0\n",
       "18. 0\n",
       "19. 1\n",
       "20. 0\n",
       "21. 0\n",
       "22. 0\n",
       "23. 1\n",
       "24. 0\n",
       "25. 1\n",
       "26. 1\n",
       "27. 1\n",
       "28. 1\n",
       "29. 0\n",
       "30. 0\n",
       "31. 1\n",
       "32. 1\n",
       "33. 0\n",
       "34. 1\n",
       "35. 0\n",
       "36. 1\n",
       "37. 0\n",
       "38. 0\n",
       "39. 1\n",
       "40. 1\n",
       "41. 1\n",
       "42. 0\n",
       "43. 1\n",
       "44. 1\n",
       "45. 0\n",
       "46. 0\n",
       "47. 0\n",
       "48. 0\n",
       "49. 0\n",
       "50. 1\n",
       "\n",
       "\n"
      ],
      "text/plain": [
       " [1] 1 0 0 1 0 1 0 0 1 1 0 0 0 0 0 1 0 0 1 0 0 0 1 0 1 1 1 1 0 0 1 1 0 1 0 1 0 0\n",
       "[39] 1 1 1 0 1 1 0 0 0 0 0 1"
      ]
     },
     "metadata": {},
     "output_type": "display_data"
    }
   ],
   "source": [
    "pop <- top50 \n",
    "pop$Predicted <- 0 \n",
    "pop$Predicted[top50$Predicted > 0.5] <- 1 \n",
    "pop$Predicted "
   ]
  },
  {
   "cell_type": "code",
   "execution_count": 142,
   "id": "f726ba39",
   "metadata": {},
   "outputs": [
    {
     "data": {
      "text/html": [
       "<style>\n",
       ".list-inline {list-style: none; margin:0; padding: 0}\n",
       ".list-inline>li {display: inline-block}\n",
       ".list-inline>li:not(:last-child)::after {content: \"\\00b7\"; padding: 0 .5ex}\n",
       "</style>\n",
       "<ol class=list-inline><li>1</li><li>0</li><li>1</li><li>1</li><li>0</li><li>1</li><li>0</li><li>1</li><li>0</li><li>1</li><li>0</li><li>1</li><li>1</li><li>1</li><li>0</li><li>1</li><li>0</li><li>0</li><li>0</li><li>0</li><li>1</li><li>0</li><li>0</li><li>0</li><li>1</li><li>1</li><li>1</li><li>1</li><li>0</li><li>0</li><li>0</li><li>1</li><li>0</li><li>0</li><li>1</li><li>0</li><li>1</li><li>1</li><li>0</li><li>1</li><li>0</li><li>1</li><li>1</li><li>1</li><li>0</li><li>0</li><li>0</li><li>0</li><li>0</li><li>1</li></ol>\n"
      ],
      "text/latex": [
       "\\begin{enumerate*}\n",
       "\\item 1\n",
       "\\item 0\n",
       "\\item 1\n",
       "\\item 1\n",
       "\\item 0\n",
       "\\item 1\n",
       "\\item 0\n",
       "\\item 1\n",
       "\\item 0\n",
       "\\item 1\n",
       "\\item 0\n",
       "\\item 1\n",
       "\\item 1\n",
       "\\item 1\n",
       "\\item 0\n",
       "\\item 1\n",
       "\\item 0\n",
       "\\item 0\n",
       "\\item 0\n",
       "\\item 0\n",
       "\\item 1\n",
       "\\item 0\n",
       "\\item 0\n",
       "\\item 0\n",
       "\\item 1\n",
       "\\item 1\n",
       "\\item 1\n",
       "\\item 1\n",
       "\\item 0\n",
       "\\item 0\n",
       "\\item 0\n",
       "\\item 1\n",
       "\\item 0\n",
       "\\item 0\n",
       "\\item 1\n",
       "\\item 0\n",
       "\\item 1\n",
       "\\item 1\n",
       "\\item 0\n",
       "\\item 1\n",
       "\\item 0\n",
       "\\item 1\n",
       "\\item 1\n",
       "\\item 1\n",
       "\\item 0\n",
       "\\item 0\n",
       "\\item 0\n",
       "\\item 0\n",
       "\\item 0\n",
       "\\item 1\n",
       "\\end{enumerate*}\n"
      ],
      "text/markdown": [
       "1. 1\n",
       "2. 0\n",
       "3. 1\n",
       "4. 1\n",
       "5. 0\n",
       "6. 1\n",
       "7. 0\n",
       "8. 1\n",
       "9. 0\n",
       "10. 1\n",
       "11. 0\n",
       "12. 1\n",
       "13. 1\n",
       "14. 1\n",
       "15. 0\n",
       "16. 1\n",
       "17. 0\n",
       "18. 0\n",
       "19. 0\n",
       "20. 0\n",
       "21. 1\n",
       "22. 0\n",
       "23. 0\n",
       "24. 0\n",
       "25. 1\n",
       "26. 1\n",
       "27. 1\n",
       "28. 1\n",
       "29. 0\n",
       "30. 0\n",
       "31. 0\n",
       "32. 1\n",
       "33. 0\n",
       "34. 0\n",
       "35. 1\n",
       "36. 0\n",
       "37. 1\n",
       "38. 1\n",
       "39. 0\n",
       "40. 1\n",
       "41. 0\n",
       "42. 1\n",
       "43. 1\n",
       "44. 1\n",
       "45. 0\n",
       "46. 0\n",
       "47. 0\n",
       "48. 0\n",
       "49. 0\n",
       "50. 1\n",
       "\n",
       "\n"
      ],
      "text/plain": [
       " [1] 1 0 1 1 0 1 0 1 0 1 0 1 1 1 0 1 0 0 0 0 1 0 0 0 1 1 1 1 0 0 0 1 0 0 1 0 1 1\n",
       "[39] 0 1 0 1 1 1 0 0 0 0 0 1"
      ]
     },
     "metadata": {},
     "output_type": "display_data"
    }
   ],
   "source": [
    "top50$Pop.or.Not"
   ]
  },
  {
   "cell_type": "markdown",
   "id": "d9b8febc",
   "metadata": {},
   "source": [
    "#### c)"
   ]
  },
  {
   "cell_type": "code",
   "execution_count": 143,
   "id": "ba5c5a9f",
   "metadata": {},
   "outputs": [
    {
     "data": {
      "text/plain": [
       "                \n",
       "                 Predicted Pop Predicted Not Pop\n",
       "  Actual Pop                18                 8\n",
       "  Actual Not Pop            10                14"
      ]
     },
     "metadata": {},
     "output_type": "display_data"
    }
   ],
   "source": [
    "tab = table(top50$Pop.or.Not, pop$Predicted)\n",
    "row.names(tab) <- c(\"Actual Pop\", \"Actual Not Pop\")\n",
    "colnames(tab) <- c(\"Predicted Pop\", \"Predicted Not Pop\")\n",
    "tab"
   ]
  },
  {
   "cell_type": "markdown",
   "id": "3028e8c5",
   "metadata": {},
   "source": [
    "#### d)"
   ]
  },
  {
   "cell_type": "markdown",
   "id": "54480498",
   "metadata": {},
   "source": [
    "As you can see above, the model wasn't totally accurate. There was a good amount of values that were predicted correctly according to the model. However, 18/50 values were predicted incorrectly. That's pretty close to half, meaning are model is better than average, but not very much better."
   ]
  },
  {
   "cell_type": "markdown",
   "id": "2d5df88d",
   "metadata": {},
   "source": [
    "### Conclusion:"
   ]
  },
  {
   "cell_type": "markdown",
   "id": "6bbde000",
   "metadata": {},
   "source": [
    "In conclusion, none of the variables worked exceptionally well in predicting whether the song was pop or not, which, honestly, I was expecting. Lots of these variables are entirely subjective... the danceability or speechiness of a song are really weird variables to measure in the first place. Even slightly more concrete ones like popularity and loudness in decibels weren't really able to help me determine whether the song was pop or not as pop is kind of a subjective classification as well. Anyway, this was still super fun!"
   ]
  }
 ],
 "metadata": {
  "kernelspec": {
   "display_name": "R",
   "language": "R",
   "name": "ir"
  },
  "language_info": {
   "codemirror_mode": "r",
   "file_extension": ".r",
   "mimetype": "text/x-r-source",
   "name": "R",
   "pygments_lexer": "r",
   "version": "4.2.1"
  }
 },
 "nbformat": 4,
 "nbformat_minor": 5
}
